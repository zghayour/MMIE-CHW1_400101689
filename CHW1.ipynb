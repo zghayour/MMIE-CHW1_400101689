{
  "cells": [
    {
      "attachments": {},
      "cell_type": "markdown",
      "metadata": {
        "id": "6DjNbXa-VC9M"
      },
      "source": [
        "<h1 align=\"center\">Mathematical Methods In Engineering - 25872</h1>\n",
        "<h4 align=\"center\">Dr. Amiri</h4>\n",
        "<h4 align=\"center\">Sharif University of Technology, Fall 2023</h4>\n",
        "<h4 align=\"center\">Python Assignment 1</h4>\n",
        "<h4 align=\"center\">feel free to ask your questions via telegram,\n",
        "\n",
        "questions 1,4 : @BeNameBalasari and questions 2,3,5 : @maahmoradi"
      ]
    },
    {
      "attachments": {},
      "cell_type": "markdown",
      "metadata": {},
      "source": [
        "You should write your code in the <font color='green'>Code Cell</font> and then run the <font color='green'>Evaluation Cell</font> to check the output of your code.<br>\n",
        "<font color='red'>**Please do not edit the existing codes.**</font>"
      ]
    },
    {
      "attachments": {},
      "cell_type": "markdown",
      "metadata": {
        "id": "bggG3YqIVC9U"
      },
      "source": [
        "## 1. Introduction to matrices\n",
        "In this question, we want to get familiar with performing simple matrix operations and obtaining special features of matrices in Python <br>\n",
        "#### 1-1-  Vector P-Norm\n",
        " Let $p\\geq 1$  be  a real   number . The  p-norm ( also called \n",
        "$\\ell ^{p}$-norm) of  vector \n",
        "${\\displaystyle \\mathbf {x} =(x_{1},\\ldots ,x_{n})}$  is : \n",
        "${\\displaystyle \\|\\mathbf {x} \\|_{p}:=\\left(\\sum _{i=1}^{n}\\left|x_{i}\\right|^{p}\\right)^{1/p}}$ and\n",
        "${\\displaystyle \\|\\mathbf {x} \\|_{\\infty}:=max(|x_1| , |x_2| , \\cdots ,|x_n|)}$ \n",
        "> Write a function that takes a vector and p as input and gives p-norm as output then use it to calculate the norm-3 of the  following vector ( if the p is np.inf the function should give the infinity norm of the matrix ) :\n",
        "$$\n",
        "x = \\left(\\begin{array}{cc} \n",
        "-3.0\\\\ 1.0 \\\\2.0\n",
        "\\end{array}\\right)\n",
        "$$\n",
        "> then use np.linalg.norm to check your answer "
      ]
    },
    {
      "cell_type": "code",
      "execution_count": 43,
      "metadata": {},
      "outputs": [],
      "source": [
        "# import required packages\n",
        "import numpy as np\n",
        "import math as math\n",
        "import copy\n",
        "import pprint\n",
        "from scipy.linalg import lu\n",
        "import matplotlib.pyplot as plt\n"
      ]
    },
    {
      "cell_type": "code",
      "execution_count": 44,
      "metadata": {
        "id": "ZzFnxtOIVC9W"
      },
      "outputs": [],
      "source": [
        "# Code cell\n",
        "def pnorm(x, p):\n",
        "    if(p==np.inf):\n",
        "        xmax=abs(x[0])\n",
        "        for k in x:\n",
        "            if abs(k)>xmax:\n",
        "                xmax=abs(k)\n",
        "        p_norm=xmax\n",
        "    else:\n",
        "        sum=0\n",
        "        for i in range(len(x)):\n",
        "            xi=x[i]\n",
        "            sum+=abs(xi)**p\n",
        "        p_norm=sum**(1/p)\n",
        "\n",
        "\n",
        "\n",
        "    return p_norm\n"
      ]
    },
    {
      "cell_type": "code",
      "execution_count": 45,
      "metadata": {},
      "outputs": [
        {
          "name": "stdout",
          "output_type": "stream",
          "text": [
            "while using pnorm() def:\n",
            "norm-3 of matrix x: 3.3019272488946263\n",
            "infinity norm of matrix x : 3.0\n",
            "while using np.linalg.norm():\n",
            "norm-3 of matrix x : 3.3019272488946263\n",
            "infinity norm of matrix x : 3.0\n",
            "eyery thing well done!\n"
          ]
        }
      ],
      "source": [
        "# Testing code cell\n",
        "x=(-3.0,1.0,2.0)\n",
        "print('while using pnorm() def:')\n",
        "print('norm-3 of matrix x:', pnorm(x,3))\n",
        "print('infinity norm of matrix x :', pnorm(x,np.inf))\n",
        "print('while using np.linalg.norm():')\n",
        "print('norm-3 of matrix x :', np.linalg.norm(x,3))\n",
        "print('infinity norm of matrix x :', np.linalg.norm(x,np.inf))\n",
        "print('eyery thing well done!')"
      ]
    },
    {
      "attachments": {},
      "cell_type": "markdown",
      "metadata": {},
      "source": [
        "#### 1-2- Matrix Norm\n",
        " The \n",
        " operator  norm of matrix $ \\mathbf{A}  $ is : \n",
        "${\\displaystyle \\|\\mathbf {A} \\|:=\\max\\limits_{x\\neq 0}\\left(\\frac{||Ax||}{||x||}\\right)}$\n",
        "\n",
        "and  The Frobenius  norm  is defined  so \n",
        "that   for  every  square  matrix $ \\mathbf{A} $ : ${\\displaystyle \\|\\mathbf {A} \\|_F:=\\left(\\sum_{i,j=1}^{n}(|a_{ij}|^2)\\right)^\\frac{1}{2}}$\n",
        "\n",
        "> Write a function that takes a Matrix  as input and gives frobenius norm as output then use it to calculate the norm of the  following Matrix :\n",
        "$$\n",
        "A = \\begin{bmatrix}\n",
        "    7 & 5 & 1\\\\\n",
        "    1 & 7 & 1\\\\\n",
        "    5 & 5 & 7\n",
        "\\end{bmatrix}\n",
        "$$\n",
        "> then use np.linalg.norm to check your answer and use it to calculate the operator norm of A "
      ]
    },
    {
      "cell_type": "code",
      "execution_count": 46,
      "metadata": {},
      "outputs": [],
      "source": [
        "# Code cell\n",
        "def fnorm(A):\n",
        "\n",
        "    m,n=np.shape(A)\n",
        "    sum=0\n",
        "    for i in range(m):\n",
        "        for j in range(n):\n",
        "            aij=A[i][j]\n",
        "            sum+=abs(aij)**2\n",
        "    f_norm=math.sqrt(sum)\n",
        "\n",
        "\n",
        "\n",
        "    return f_norm\n"
      ]
    },
    {
      "cell_type": "code",
      "execution_count": 47,
      "metadata": {},
      "outputs": [
        {
          "name": "stdout",
          "output_type": "stream",
          "text": [
            "while using fnorm() def:\n",
            "frobenius norm of matrix A: 15.0\n",
            "while using np.linalg.norm():\n",
            "frobenius norm of matrix A: 15.0\n",
            "every things well done!\n"
          ]
        }
      ],
      "source": [
        "# Testing code cell\n",
        "A=[[7,5,1],[1,7,1],[5,5,7]]\n",
        "print('while using fnorm() def:')\n",
        "print('frobenius norm of matrix A:', fnorm(A))\n",
        "print('while using np.linalg.norm():')\n",
        "print('frobenius norm of matrix A:', np.linalg.norm(A))\n",
        "print('every things well done!')\n"
      ]
    },
    {
      "attachments": {},
      "cell_type": "markdown",
      "metadata": {},
      "source": [
        "#### 1-3- Matrix Determinant And Matrix inverse \n",
        "Laplace expansion expresses the determinant of a matrix \n",
        "A recursively in terms of determinants of smaller matrices, known as its minors. The minor \n",
        ", $M_{i,j}$ is defined to be the determinant of the \n",
        "${\\displaystyle (n-1)\\times (n-1)}$ matrix that results from \n",
        "A by removing the \n",
        "i-th row and the \n",
        "j-th column. The expression \n",
        "${\\displaystyle (-1)^{i+j}M_{i,j}}$  is known as a cofactor. For every \n",
        "i, one has the equality :\n",
        "$$\n",
        "det(\\mathbf{A})=\\sum_{j=1}^n\\left((-1)^{i+j}a_{ij}M_{ij}\\right)\n",
        "$$\n",
        "> Write a function that takes a Matrix  as input and gives Determinant as output then use it to calculate the Determinant of the  following Matrix :\n",
        "$$\n",
        "A = \\begin{bmatrix}\n",
        "    7 & 5 & 1\\\\\n",
        "    1 & 7 & 1\\\\\n",
        "    5 & 5 & 7\n",
        "\\end{bmatrix}\n",
        "$$\n",
        "> then use np.linalg.det to check your answer "
      ]
    },
    {
      "cell_type": "code",
      "execution_count": 48,
      "metadata": {},
      "outputs": [],
      "source": [
        "# Code cell\n",
        "\n",
        "def new_matrix(A,i):\n",
        "    arr = copy.deepcopy(A)\n",
        "    if len(arr) == 2:\n",
        "        return arr\n",
        "    else:\n",
        "        arr.pop(0)\n",
        "        for j in arr:\n",
        "            j.pop(i)\n",
        "            \n",
        "        return arr\n",
        "\n",
        "def det(A):\n",
        "    if len(A) == 1:\n",
        "        TEMP = A[0]\n",
        "        return TEMP\n",
        "    elif len(A) == 2 :\n",
        "        TEMP = A[0][0]*A[1][1] - A[1][0]*A[0][1]\n",
        "        return TEMP   \n",
        "    else:\n",
        "        TEMP = 0\n",
        "        for i in range(len(A[0])):\n",
        "            TEMP += ((-1)**i)*A[0][i]*det(new_matrix(A,i))    \n",
        "        return TEMP\n",
        "        "
      ]
    },
    {
      "cell_type": "code",
      "execution_count": 49,
      "metadata": {},
      "outputs": [
        {
          "name": "stdout",
          "output_type": "stream",
          "text": [
            "while using det() def:\n",
            "determinant of matrix A: 268\n",
            "while using np.linalg.det():\n",
            "determinant of matrix A: 267.99999999999994\n",
            "my function has better operation and suite  better with theory! \n"
          ]
        }
      ],
      "source": [
        "# Testing code cell\n",
        "A=[[7,5,1],[1,7,1],[5,5,7]]\n",
        "print('while using det() def:')\n",
        "print('determinant of matrix A:', det(A))\n",
        "print('while using np.linalg.det():')\n",
        "print('determinant of matrix A:', np.linalg.det(A))\n",
        "print(\"my function has better operation and suite  better with theory! \")"
      ]
    },
    {
      "attachments": {},
      "cell_type": "markdown",
      "metadata": {},
      "source": [
        "The inverse of a Matrix is defined as : \n",
        "$$\n",
        "\\mathbf{A}^{-1}=\\frac{adj(A)}{det(A)}\n",
        "$$\n",
        "The adjugate of $\\mathbf{A} \\ adj(\\mathbf{A})$ is the transpose of $\\mathbf{C}$, that is, the n × n matrix whose (i, j) entry is the (j, i) cofactor of A,\n",
        "$$\n",
        "adj(\\mathbf{A})=\\mathbf{C}^T=\\left((-1)^{i+j}M_{ji}\\right)_{1 \\leq i,j \\leq n}\n",
        "$$\n",
        "> Write a function that takes a Matrix  as input and gives inverse of Matrix as output then use it to calculate the inverse of the  following Matrix :\n",
        "$$\n",
        "A = \\begin{bmatrix}\n",
        "    7 & 5 & 1\\\\\n",
        "    1 & 7 & 1\\\\\n",
        "    5 & 5 & 7\n",
        "\\end{bmatrix}\n",
        "$$\n",
        "> then use np.linalg.inv to check your answer "
      ]
    },
    {
      "cell_type": "code",
      "execution_count": 50,
      "metadata": {},
      "outputs": [],
      "source": [
        "# Code cell\n",
        "# Here i will use  and  def which i form them in last part\n",
        "def new_matrix2(A,i,j):\n",
        "   arr = copy.deepcopy(A)\n",
        "   arr.pop(i)\n",
        "   for k in arr:\n",
        "      k.pop(j) \n",
        "   return arr\n",
        "\n",
        "def cof(A):\n",
        "   C = copy.deepcopy(A)\n",
        "   m,n=np.shape(A)\n",
        "   for i in range(m):\n",
        "      for j in range(n):\n",
        "         C[i][j]=((-1)**(i+j))*det(new_matrix2(A,i,j))\n",
        "   return C\n",
        "\n",
        "def transpose(C):\n",
        "   c = copy.deepcopy(C)\n",
        "   m,n=np.shape(c)\n",
        "   for i in range(m):\n",
        "      for j in range(n):\n",
        "         c[i][j]=C[j][i]\n",
        "   return c\n",
        "\n",
        "def inv(A):\n",
        "   adj_A=transpose(cof(A))\n",
        "   m,n=np.shape(adj_A)\n",
        "   inv_A=copy.deepcopy(adj_A)\n",
        "   determinant=det(A)\n",
        "   for i in range(m):\n",
        "      for j in range(n):\n",
        "         inv_A[i][j]=adj_A[i][j]/determinant\n",
        "   return inv_A"
      ]
    },
    {
      "cell_type": "code",
      "execution_count": 51,
      "metadata": {},
      "outputs": [
        {
          "name": "stdout",
          "output_type": "stream",
          "text": [
            "while using inv() def:\n",
            "[[0.16417910447761194, -0.11194029850746269, -0.007462686567164179],\n",
            " [-0.007462686567164179, 0.16417910447761194, -0.022388059701492536],\n",
            " [-0.11194029850746269, -0.03731343283582089, 0.16417910447761194]]\n",
            "while using np.linalg.det():\n",
            "array([[ 0.1641791 , -0.1119403 , -0.00746269],\n",
            "       [-0.00746269,  0.1641791 , -0.02238806],\n",
            "       [-0.1119403 , -0.03731343,  0.1641791 ]])\n",
            "evrey thing well done! \n"
          ]
        }
      ],
      "source": [
        "# Testing code cell\n",
        "A=[[7,5,1],[1,7,1],[5,5,7]]\n",
        "print('while using inv() def:')\n",
        "pprint.pprint(inv(A))\n",
        "print('while using np.linalg.det():')\n",
        "pprint.pprint( np.linalg.inv(A))\n",
        "print(\"evrey thing well done! \")"
      ]
    },
    {
      "cell_type": "markdown",
      "metadata": {},
      "source": [
        "## 2. Gauss-Jordan elimination\n",
        "#### 2-1-  Implementation\n",
        "The Gauss-Jordan Elimination method is an algorithm to solve a linear system of equations. This method solves the system by representing it as an augmented matrix, reducing it using row operations, and expressing the system in reduced row-echelon form to find the values of the variables. \\\n",
        "The function gauss_jordan_elimination takes two arguments: the matrix A representing the coefficients of the equations, and the vector b representing the constants on the right-hand side of the equations. It sets flag to 1 and returns the solution vector x if exists, else sets flag to 0 in case of 'No Solution' or 'Infinite Solutions' and prints the corresponding case.\n",
        "\n",
        "Here's an example of a system of equations $\\textbf{Ax = b}$\n",
        "\n",
        "the inputs of the function :\n",
        "\n",
        "$$\n",
        "A = \\begin{bmatrix}\n",
        "    2  & 1  & 5 \\\\\n",
        "    4  & 4  & -4 \\\\\n",
        "    1 & 3 & 1 \n",
        "\\end{bmatrix}\n",
        "$$\n",
        "\n",
        "$$\n",
        "b = \\begin{bmatrix}\n",
        "    8  \\\\\n",
        "    4  \\\\\n",
        "    5 \n",
        "\\end{bmatrix}\n",
        "$$\n",
        "\n",
        "the corresponding output :\n",
        "\n",
        "$$\n",
        "x = \\begin{bmatrix}\n",
        "    1  \\\\\n",
        "    1  \\\\\n",
        "    1 \n",
        "\\end{bmatrix}\n",
        "$$"
      ]
    },
    {
      "cell_type": "code",
      "execution_count": 52,
      "metadata": {},
      "outputs": [],
      "source": [
        "# import required packages\n",
        "import numpy as np\n",
        "import time"
      ]
    },
    {
      "cell_type": "code",
      "execution_count": 53,
      "metadata": {},
      "outputs": [],
      "source": [
        "# Code cell\n",
        "import numpy as np\n",
        "\n",
        "def gauss_jordan_elimination(A, b):\n",
        "    A = A.astype(float)\n",
        "    b = b.astype(float)\n",
        "\n",
        "    augmented_matrix = np.column_stack((A, b))\n",
        "\n",
        "    num_rows, num_cols = augmented_matrix.shape\n",
        "\n",
        "    for pivot_row in range(min(num_rows, num_cols - 1)):\n",
        "        pivot_value = augmented_matrix[pivot_row, pivot_row]\n",
        "        augmented_matrix[pivot_row] /= pivot_value\n",
        "\n",
        "        for other_row in range(num_rows):\n",
        "            if other_row != pivot_row:\n",
        "                factor = augmented_matrix[other_row, pivot_row]\n",
        "                augmented_matrix[other_row] -= factor * augmented_matrix[pivot_row]\n",
        "\n",
        "    for row in range(num_rows):\n",
        "        if np.allclose(augmented_matrix[row, :-1], 0) and not np.allclose(augmented_matrix[row, -1], 0):\n",
        "            print(\"Infinite Solutions\")\n",
        "            return 0, None\n",
        "\n",
        "    # Check for no solution\n",
        "    if np.allclose(augmented_matrix[:, :-1], 0) and np.allclose(augmented_matrix[:, -1], 0):\n",
        "        print(\"Infinite Solutions (Underdetermined System)\")\n",
        "        return  None,0\n",
        "\n",
        "    if np.allclose(augmented_matrix[:, :-1], 0) and not np.allclose(augmented_matrix[:, -1], 0):\n",
        "        print(\"No Solution\")\n",
        "        return  None,0\n",
        "\n",
        "    solution = augmented_matrix[:, -1]\n",
        "\n",
        "\n",
        "    x=solution\n",
        "    return x,1\n",
        "\n",
        "\n"
      ]
    },
    {
      "cell_type": "code",
      "execution_count": 54,
      "metadata": {},
      "outputs": [
        {
          "data": {
            "text/plain": [
              "(array([1., 1., 1.]), 1)"
            ]
          },
          "execution_count": 54,
          "metadata": {},
          "output_type": "execute_result"
        }
      ],
      "source": [
        "A=np.array([[2,1,5],[4,4,-4],[1,3,1]])\n",
        "b=np.array([[8],[4],[5]])\n",
        "gauss_jordan_elimination(A,b)"
      ]
    },
    {
      "cell_type": "code",
      "execution_count": 55,
      "metadata": {},
      "outputs": [
        {
          "name": "stdout",
          "output_type": "stream",
          "text": [
            "Solution: [ 1.66448324 -1.92936833  0.68442893 -2.28647813  0.3447631   0.46132956\n",
            " -0.04087458 -0.64834512 -0.10675415  2.35192391]\n",
            "4.979885792390414e-13\n"
          ]
        }
      ],
      "source": [
        "A = np.array([[68, 62, 64, 86, 96, 88, 74, 63, 16, 80],\n",
        "              [32, 61, 10, 38, 44, 23, 85, 29, 97, 89],\n",
        "              [57, 60, 95, 26, 58, 46, 91, 78, 50, 39],\n",
        "              [80, 26, 90, 97,  3, 50, 34, 23, 26, 63],\n",
        "              [93, 73, 54, 43, 85, 81, 66, 50, 54, 33],\n",
        "              [34, 33,  9, 13,  4, 78, 27, 84, 99, 58],\n",
        "              [42, 59, 86, 13, 34, 93, 50, 12, 22, 18],\n",
        "              [66, 43,  9, 52, 13, 48, 11, 66, 87, 76],\n",
        "              [58, 30, 34, 63, 18, 11, 60, 11, 28, 58],\n",
        "              [57, 52, 65, 79, 22, 48, 97, 12, 29, 56]])\n",
        "\n",
        "b = np.array([57, 58, 58, 76, 56, 77, 70, 67, 53, 5])\n",
        "\n",
        "x, flag = gauss_jordan_elimination(A, b)\n",
        "\n",
        "print('Solution:', x)\n",
        "print( np.linalg.norm(A @ x - b))"
      ]
    },
    {
      "cell_type": "code",
      "execution_count": 56,
      "metadata": {},
      "outputs": [
        {
          "name": "stdout",
          "output_type": "stream",
          "text": [
            "status: successful, time elapsed: 0.0 seconds\n",
            "status: successful, time elapsed: 0.0 seconds\n"
          ]
        }
      ],
      "source": [
        "# Evaluation Cell\n",
        "n = 10\n",
        "A = np.zeros((10,10))\n",
        "b = np.random.randint(100, size=(10))\n",
        "while np.linalg.matrix_rank(A) != n: \n",
        "  A = np.random.randint(0,100,(n, n))\n",
        "s = time.time()\n",
        "elapsed = time.time() - s\n",
        "x, flag = gauss_jordan_elimination(A,b)\n",
        "assert flag == 1, \"flag's not set correctly\"\n",
        "assert np.linalg.norm(A @ x- b) < 1e-7, \"Ax = b is not satisfied\"\n",
        "print(f'status: successful, time elapsed: {np.round(elapsed, 5)} seconds')\n",
        "b = np.random.randint(100, size=(10))\n",
        "A = np.random.randint(0, 100, (n, n))\n",
        "U, S, V = np.linalg.svd(A)\n",
        "r = 9  \n",
        "S[r:] = 0 \n",
        "A = U.dot(np.diag(S)).dot(V)\n",
        "b = np.random.randint(100, size=(10))\n",
        "s = time.time()\n",
        "elapsed = time.time() - s\n",
        "x, flag = gauss_jordan_elimination(A,b)\n",
        "print(f'status: successful, time elapsed: {np.round(elapsed, 5)} seconds')"
      ]
    },
    {
      "cell_type": "markdown",
      "metadata": {},
      "source": [
        "## 3. Statistics on random matrices\n",
        "\n",
        "On average, a random matrix is invertible. But what if the random matrix has entries that are either 0 or 1 with equal probability? What is the probability that a 5 by 5 matrix whose entries are all zeros or ones is singular? And what is the average number of pivot columns? That is what you will find out in this exercise.\n",
        "\n",
        "Create random integer matrices whose entries are either 0 or 1. To find the number of pivot columns of a matrix A, complete the function getrank below.\n"
      ]
    },
    {
      "cell_type": "code",
      "execution_count": 57,
      "metadata": {},
      "outputs": [],
      "source": [
        "def create_matrix(rows, cols):\n",
        "    # np.random.randint(2, size=(rows, cols)) creates a matrix with random 0s and 1s\n",
        "    return np.random.randint(2, size=(rows, cols))\n",
        "def getrank(A):\n",
        "    # Convert A to a list of lists for processing\n",
        "    A = A.tolist()\n",
        "\n",
        "    row_idx = 0\n",
        "    rank = 0\n",
        "    rows, cols = len(A), len(A[0])\n",
        "\n",
        "    for col_idx in range(cols):\n",
        "        if row_idx >= rows:\n",
        "            break\n",
        "\n",
        "        pivot_row = row_idx\n",
        "        while A[pivot_row][col_idx] == 0:\n",
        "            pivot_row += 1\n",
        "            if pivot_row == rows:\n",
        "                pivot_row = row_idx\n",
        "                break\n",
        "\n",
        "        A[row_idx], A[pivot_row] = A[pivot_row], A[row_idx]\n",
        "\n",
        "        pivot = A[row_idx][col_idx]\n",
        "        if pivot != 0:\n",
        "            rank += 1\n",
        "            for r in range(rows):\n",
        "                if r != row_idx and A[r][col_idx] != 0:\n",
        "                    scale = -A[r][col_idx] / pivot\n",
        "                    A[r] = [a + scale * b for a, b in zip(A[r], A[row_idx])]\n",
        "\n",
        "        row_idx += 1\n",
        "\n",
        "    return rank\n"
      ]
    },
    {
      "cell_type": "code",
      "execution_count": 58,
      "metadata": {},
      "outputs": [
        {
          "name": "stdout",
          "output_type": "stream",
          "text": [
            " my Matrix is:\n",
            "array([[0, 1, 0, 0, 0],\n",
            "       [0, 1, 1, 1, 1],\n",
            "       [1, 1, 1, 1, 1],\n",
            "       [1, 1, 0, 1, 0],\n",
            "       [1, 0, 1, 0, 1]])\n",
            "\n",
            "The rank of the matrix  which calculate by getrank() is : 4\n",
            "\n",
            "The rank of the matrix  which calculate by np.linalg.matrix_rank() is : 4\n"
          ]
        }
      ],
      "source": [
        "\n",
        "A = create_matrix(5, 5)\n",
        "print(\" my Matrix is:\")\n",
        "pprint.pprint(A)\n",
        "# Calculate and print the rank of matrix A\n",
        "rank = getrank(A)\n",
        "print(f\"\\nThe rank of the matrix  which calculate by getrank() is : {rank}\")\n",
        "print(f\"\\nThe rank of the matrix  which calculate by np.linalg.matrix_rank() is : {np.linalg.matrix_rank(A)}\")"
      ]
    },
    {
      "cell_type": "code",
      "execution_count": 59,
      "metadata": {},
      "outputs": [
        {
          "name": "stdout",
          "output_type": "stream",
          "text": [
            "(avg number of pivots, probability of being singular) of 5 by 5 is: (4.14702,0.62795)\n"
          ]
        }
      ],
      "source": [
        "# Code cell\n",
        "num = 100000;  # Number of random trials \n",
        "n = 5  # Size of matrix\n",
        "\n",
        "def findpivot_prob_singular(n,num):\n",
        "    sum=0\n",
        "    count=0\n",
        "    for i in range (num):\n",
        "        A = create_matrix(n,n)\n",
        "        sum += getrank(A)\n",
        "        if(getrank(A)<n):\n",
        "            count+=1\n",
        "    avg_pivots=float(sum)/num\n",
        "    prob_singular=float(count)/num\n",
        "    answer=[avg_pivots,prob_singular]\n",
        "    return answer\n",
        "\n",
        "def_answer=findpivot_prob_singular(n,num)\n",
        "print('(avg number of pivots, probability of being singular) of ',n,' by ',n,' is: (',def_answer[0],',',def_answer[1],')',sep='')\n",
        "\n",
        "\n",
        "# (avg number of pivots, probability of being singular)\n",
        "# in the format [a.b,c.d] where you rounded the answer to one decimal place.\n"
      ]
    },
    {
      "cell_type": "code",
      "execution_count": 60,
      "metadata": {},
      "outputs": [
        {
          "name": "stdout",
          "output_type": "stream",
          "text": [
            "(avg number of pivots, probability of being singular) of 10 by 10 is: (9.6635,0.29345)\n"
          ]
        }
      ],
      "source": [
        "n=10\n",
        "def_answer=findpivot_prob_singular(n,num)\n",
        "print('(avg number of pivots, probability of being singular) of ',n,' by ',n,' is: (',def_answer[0],',',def_answer[1],')',sep='')\n"
      ]
    },
    {
      "cell_type": "markdown",
      "metadata": {},
      "source": [
        "We've looked at random matrices whose entries are 0 or 1. But how does size effect the rank and the probability of being singular? Repeat the previous exercise for 10 by 10 matrices with entries that are 0 or 1.\n",
        "\n",
        "Explore and plot the probability of singularity and the average number of pivots for different sizes of random matrices. Can you determine how this probability depends on the size of the matrix? You might try to find the probability of a 10 by 10 random matrix with entries 0 or 1 has rank 10, 9, 8, 7 etc. You can check your probabilities against the expected value to see if your probabilities match your observations. You might try to connect these probabilities with determinant formulas to see if you can predict the numbers from other formulas and prove a relationship. Happy explorations!\n",
        "\n",
        " guess what happens as $n \\rightarrow \\infty $\n",
        ", but only run up to 80"
      ]
    },
    {
      "cell_type": "code",
      "execution_count": 61,
      "metadata": {},
      "outputs": [
        {
          "name": "stdout",
          "output_type": "stream",
          "text": [
            "(avg number of pivots, probability of being singular) of 5 by 5 is: (4.172,0.624)\n",
            "(avg number of pivots, probability of being singular) of 10 by 10 is: (9.674,0.282)\n",
            "(avg number of pivots, probability of being singular) of 20 by 20 is: (20.0,0.0)\n",
            "(avg number of pivots, probability of being singular) of 40 by 40 is: (39.972,0.006)\n",
            "(avg number of pivots, probability of being singular) of 80 by 80 is: (79.994,0.004)\n"
          ]
        }
      ],
      "source": [
        "# Code cell\n",
        "\n",
        "nvalues = [5,10,20,40,80]\n",
        "num = 500\n",
        "def_answer1=[[],[],[],[],[]]\n",
        "\n",
        "for n in nvalues :\n",
        "    def_answer1[nvalues.index(n)]=findpivot_prob_singular(n,num)\n",
        "    print('(avg number of pivots, probability of being singular) of ',n,' by ',n,' is: (',def_answer1[nvalues.index(n)][0],',',def_answer1[nvalues.index(n)][1],')',sep='')\n"
      ]
    },
    {
      "cell_type": "code",
      "execution_count": 62,
      "metadata": {},
      "outputs": [
        {
          "name": "stdout",
          "output_type": "stream",
          "text": [
            "[4.172, 9.674, 20.0, 39.972, 79.994]\n"
          ]
        },
        {
          "data": {
            "image/png": "[encoded data removed]",
            "text/plain": [
              "<Figure size 640x480 with 1 Axes>"
            ]
          },
          "metadata": {},
          "output_type": "display_data"
        },
        {
          "name": "stdout",
          "output_type": "stream",
          "text": [
            "[0.624, 0.282, 0.0, 0.006, 0.004]\n"
          ]
        },
        {
          "data": {
            "image/png": "[encoded data removed]",
            "text/plain": [
              "<Figure size 640x480 with 1 Axes>"
            ]
          },
          "metadata": {},
          "output_type": "display_data"
        }
      ],
      "source": [
        "pivotAvrages=[]\n",
        "prob_singulars=[]\n",
        "for i in range(5) :\n",
        "    pivotAvrages.append(def_answer1[i][0])\n",
        "    prob_singulars.append(def_answer1[i][1])\n",
        "\n",
        "print(pivotAvrages)\n",
        "# Create the plot for avrage pivot\n",
        "plt.plot( nvalues,pivotAvrages)\n",
        "# Display the plot\n",
        "plt.show()\n",
        "#repet for probablity\n",
        "print(prob_singulars)\n",
        "plt.plot( nvalues,prob_singulars)\n",
        "plt.show()\n"
      ]
    },
    {
      "cell_type": "markdown",
      "metadata": {},
      "source": [
        "## 4. Application of Cholesky decomposition\n",
        "#### 4-1-  Cholesky decomposition\n",
        "In linear algebra, LU decomposition factors a matrix ($\\textbf{A} :n \\times n$) as the product of a lower triangular matrix ($\\textbf{L} :n \\times n$) and an upper triangular matrix ($\\textbf{U} :n \\times n$). The product sometimes includes a permutation matrix ($\\textbf{P} :n \\times n$) as well.\n",
        "$$ \\textbf{PA} = \\textbf{LU} $$\n",
        "We know that the elements on the main diagonal of the $\\textbf{U}$ are the pivots. So $\\textbf{U}$ can be decomposed into a diagonal matrix ($\\textbf{D} :n \\times n$) with elements whose pivots are on the main diagonal and a normalized $\\textbf{U}$ matrix.\n",
        "$$ \\textbf{PA} = \\textbf{LDU}  $$\n",
        "if the A is symmetric then we have the Cholesky decomposition :\n",
        "$$\n",
        "\\mathbf{A}^T=\\mathbf{A} \\longrightarrow \\mathbf{A} =LD^\\frac{1}{2}D^\\frac{1}{2} L^T= (LD^\\frac{1}{2})(LD^\\frac{1}{2})^T=L'{L'} ^T\n",
        "$$\n",
        "There are various methods for calculating the Cholesky decomposition one of them is $\\bold{Cholesky–Banachiewicz}$ algorithm :\n",
        "$$\n",
        "A=LL^T=\\begin{bmatrix}\n",
        "    L_{11}& 0 & 0\\\\\n",
        "    L_{21} & L_{22} & 0\\\\\n",
        "    L_{31}  & L_{32}  & L_{33} \n",
        "\\end{bmatrix}\\begin{bmatrix}\n",
        "    L_{11}  & L_{21}  & L_{31} \\\\\n",
        "    0  & L_{22}  & L_{32} \\\\\n",
        "    0 & 0 & L_{33} \n",
        "\\end{bmatrix}=\\begin{bmatrix}\n",
        "    L_{11}^2  &   & (symmetric) \\\\\n",
        "    L_{21}L_{11}  & L_{21}^2+L_{22}^2  &  \\\\\n",
        "    L_{31}L_{11}& L_{31}L_{21}+L_{32}L_{22}& L_{33}^2+L_{32}^2+L_{31}^2 \n",
        "\\end{bmatrix}\n",
        "$$\n",
        "\n",
        "and therefore the following formulas for the entries of L:\n",
        "\n",
        "$$\n",
        "L_{jj}=\\sqrt{A_{jj}-\\sum_{k=1}^{j-1}L_{jk}^2} \\\\\n",
        "\\\\\n",
        "L_{i,j}=\\frac{\\left(A_{ij}-\\sum_{k=1}^{j-1}L_{jk}L_{ik}\\right)}{L_{jj}} \\  \\ for \\ \\ i>j\n",
        "$$\n",
        "\n",
        "> Use this algorithm to write a function that takes a matrix and gives its cholesky decomposition. also print the output for the following matrix :\n",
        "$$\n",
        "\\mathbf{C}=\n",
        "\\begin{bmatrix}\n",
        "    1 & 0.7 \\\\\n",
        "    0.7 & 1\n",
        "\\end{bmatrix}\n",
        "$$ \n",
        "\n",
        "\n",
        "> then use np.linalg.cholesky to check your answer "
      ]
    },
    {
      "cell_type": "code",
      "execution_count": 63,
      "metadata": {},
      "outputs": [],
      "source": [
        "# Code cell\n",
        "\n",
        "def Cholesky(A):\n",
        "    n = A.shape[0]\n",
        "    L = np.zeros_like(A)\n",
        "    for i in range(n):\n",
        "        for k in range(i+1):\n",
        "            tmp_sum=0\n",
        "            for j in range(k):\n",
        "                tmp_sum +=(L[i][j] * L[k][j])\n",
        "            if (i == k): # Diagonal elements\n",
        "                L[i][k] = np.sqrt(A[i][i] - tmp_sum)\n",
        "            else:\n",
        "                L[i][k] = (1.0 / L[k][k] * (A[i][k] - tmp_sum))\n",
        "    return L\n"
      ]
    },
    {
      "cell_type": "code",
      "execution_count": 64,
      "metadata": {},
      "outputs": [
        {
          "name": "stdout",
          "output_type": "stream",
          "text": [
            "while using Cholesky():\n",
            "array([[1.        , 0.        ],\n",
            "       [0.7       , 0.71414284]])\n",
            "while using np.linalg.cholesky():\n",
            "array([[1.        , 0.        ],\n",
            "       [0.7       , 0.71414284]])\n",
            "every things well done!\n"
          ]
        }
      ],
      "source": [
        "A = np.array([[1, 0.7], [0.7, 1]])\n",
        "L = Cholesky(A)\n",
        "\n",
        "print('while using Cholesky():')\n",
        "pprint.pprint(L)\n",
        "print('while using np.linalg.cholesky():')\n",
        "pprint.pprint(np.linalg.cholesky(A))\n",
        "print('every things well done!')"
      ]
    },
    {
      "cell_type": "markdown",
      "metadata": {},
      "source": [
        "#### 4-2-  Using Cholesky to generate correlated random numbers\n",
        "\n",
        "The co-variance Matrix of any random vector Y\n",
        " is given as $\\mathbf{E}(YY^T)$\n",
        ", where Y\n",
        " is a random column vector of size n×1\n",
        ". Now take a random vector, X\n",
        ", consisting of uncorrelated random variables with each random variable, $X_i$\n",
        ", having zero mean and unit variance 1\n",
        ". Since $X_i$\n",
        "'s are uncorrelated random variables with zero mean and unit variance, we have $\\mathbf{E}(X_i X_j^T)=δ_{ij}$\n",
        ". Hence,\n",
        "$$\n",
        "\\mathbf{E}(XX^T)=I\n",
        "$$\n",
        "To generate a random vector with a given covariance matrix $\\mathbf{C}$\n",
        ", look at the Cholesky decomposition of $C$\n",
        " i.e. $\\mathbf{C}=LL^T$\n",
        " \n",
        "Now look at the random vector $Z=LX$ :\n",
        "$$\n",
        "\\mathbf{E}(ZZ^T)=\\mathbf{E}\\left((LX)(LX)^T\\right)=L\\mathbf{E}(XX^T)L^T =LL^T=\\mathbf{C}\n",
        "$$\n",
        "Hence, the random vector $\\mathbf{Z}$\n",
        " has the desired co-variance matrix, $\\mathbf{C}$\n",
        "\n",
        " >Make the covarience matirx of $C$\n",
        "  $$\n",
        "\\mathbf{C}=\n",
        "\\begin{bmatrix}\n",
        "    1 & 0.7 \\\\\n",
        "    0.7 & 1\n",
        "\\end{bmatrix}\n",
        "$$ \n",
        "\n",
        " \n",
        " >Then we need another matrix with the desired standard deviation in the diagonal  $\\Tau$\n",
        " $$\n",
        "\\mathbf{\\Tau}=\n",
        "\\begin{bmatrix}\n",
        "    1 & 0 \\\\\n",
        "    0 & 2\n",
        "\\end{bmatrix}\n",
        "$$ \n",
        ">Then find the cholesky decomposition of $C$\n"
      ]
    },
    {
      "cell_type": "code",
      "execution_count": 65,
      "metadata": {},
      "outputs": [],
      "source": [
        "C = np.array([[1, 0.7], [0.7, 1]])\n",
        "T = np.array([[1, 0], [0, 2]])\n",
        "\n",
        "#find covariance matix of C :\n",
        "cov_matrix = np.cov(C, rowvar=False)\n",
        "\n",
        "#find the cholesky decomposition of C:\n",
        "L=Cholesky(C)\n"
      ]
    },
    {
      "cell_type": "code",
      "execution_count": 66,
      "metadata": {},
      "outputs": [
        {
          "name": "stdout",
          "output_type": "stream",
          "text": [
            "covariance matix of C :\n",
            " [[ 0.045 -0.045]\n",
            " [-0.045  0.045]]\n",
            "cholesky decomposition of C :\n",
            " [[1.         0.        ]\n",
            " [0.7        0.71414284]]\n"
          ]
        }
      ],
      "source": [
        "#test\n",
        "print('covariance matix of C :\\n',cov_matrix)\n",
        "print('cholesky decomposition of C :\\n',L)"
      ]
    },
    {
      "cell_type": "markdown",
      "metadata": {},
      "source": [
        ">Now  generate values for 2 independent random variables and put them in  2*1000 matrix $X$ (1000 samples)\n",
        "\n",
        "you can use np.random.normal ( generates iid random variables each time )"
      ]
    },
    {
      "cell_type": "code",
      "execution_count": 67,
      "metadata": {},
      "outputs": [],
      "source": [
        "X = np.array([[0]*1000]*2)\n",
        "for i in range(2):\n",
        "    for j in range(1000):\n",
        "        X[i][j]=np.random.normal()"
      ]
    },
    {
      "cell_type": "code",
      "execution_count": 68,
      "metadata": {},
      "outputs": [
        {
          "name": "stdout",
          "output_type": "stream",
          "text": [
            "array([[ 1,  0,  0, ...,  0,  0, -1],\n",
            "       [ 0,  0,  0, ...,  1,  0,  0]])\n"
          ]
        }
      ],
      "source": [
        "#test\n",
        "pprint.pprint(X)"
      ]
    },
    {
      "cell_type": "markdown",
      "metadata": {},
      "source": [
        ">then calculate $\\mathbf{Z}=\\Tau L X$ and then plot Z[1] in base of Z[0] and X[1] in base of X[0] "
      ]
    },
    {
      "cell_type": "code",
      "execution_count": 69,
      "metadata": {},
      "outputs": [
        {
          "name": "stdout",
          "output_type": "stream",
          "text": [
            "array([[ 1.        ,  0.        ,  0.        , ...,  0.        ,\n",
            "         0.        , -1.        ],\n",
            "       [ 1.4       ,  0.        ,  0.        , ...,  1.42828569,\n",
            "         0.        , -1.4       ]])\n"
          ]
        }
      ],
      "source": [
        "Z=T@L@X\n",
        "pprint.pprint(Z)\n"
      ]
    },
    {
      "cell_type": "code",
      "execution_count": 70,
      "metadata": {},
      "outputs": [
        {
          "data": {
            "image/png": "[encoded data removed]",
            "text/plain": [
              "<Figure size 640x480 with 1 Axes>"
            ]
          },
          "metadata": {},
          "output_type": "display_data"
        },
        {
          "data": {
            "image/png": "[encoded data removed]",
            "text/plain": [
              "<Figure size 640x480 with 1 Axes>"
            ]
          },
          "metadata": {},
          "output_type": "display_data"
        }
      ],
      "source": [
        "#Plot\n",
        "plt.plot( Z[0],Z[1])\n",
        "plt.show()\n",
        "plt.plot( X[0],X[1])\n",
        "plt.show()"
      ]
    },
    {
      "cell_type": "markdown",
      "metadata": {},
      "source": [
        ">now  check the correlation in generated samples with using np.correlate"
      ]
    },
    {
      "cell_type": "code",
      "execution_count": 71,
      "metadata": {},
      "outputs": [
        {
          "name": "stdout",
          "output_type": "stream",
          "text": [
            "array([743.28685726])\n",
            "array([-4])\n"
          ]
        }
      ],
      "source": [
        "pprint.pprint(np.correlate(Z[0],Z[1]))\n",
        "pprint.pprint(np.correlate(X[0],X[1]))"
      ]
    },
    {
      "cell_type": "markdown",
      "metadata": {},
      "source": [
        "## 5. Graphs (bonus)\n",
        "\n",
        "I suggest running this question's code cells in google colab to install the $\\textbf{PyGSP}$ package by  simply running the following code cell"
      ]
    },
    {
      "cell_type": "code",
      "execution_count": 72,
      "metadata": {},
      "outputs": [
        {
          "name": "stdout",
          "output_type": "stream",
          "text": [
            "Requirement already satisfied: pygsp in c:\\users\\asus\\appdata\\local\\programs\\python\\python311\\lib\\site-packages (0.5.1)\n",
            "Requirement already satisfied: numpy in c:\\users\\asus\\appdata\\local\\programs\\python\\python311\\lib\\site-packages (from pygsp) (1.24.0)\n",
            "Requirement already satisfied: scipy in c:\\users\\asus\\appdata\\local\\programs\\python\\python311\\lib\\site-packages (from pygsp) (1.11.4)\n"
          ]
        },
        {
          "name": "stderr",
          "output_type": "stream",
          "text": [
            "\n",
            "[notice] A new release of pip is available: 23.3.1 -> 23.3.2\n",
            "[notice] To update, run: python.exe -m pip install --upgrade pip\n"
          ]
        }
      ],
      "source": [
        "!pip install pygsp"
      ]
    },
    {
      "cell_type": "markdown",
      "metadata": {},
      "source": [
        "\n",
        "<!-- ![]( graph.png) -->\n",
        "<div style=\"text-align:center\">\n",
        "    <img src=\"graph.png\" alt=\"Image\" />\n",
        "</div> \n",
        "\n",
        "\n",
        "For the directed graph above the adjacency matrix is : \n",
        "$\n",
        "A = \\begin{bmatrix}\n",
        "    0  & 1  & 1 & 0\\\\\n",
        "    -1  & 0  & 1 & 1 \\\\\n",
        "    -1 & -1 & 0 & 1 \\\\\n",
        "    0  & -1  & -1 & 0\n",
        "\\end{bmatrix}\n",
        "$ \n",
        "\n",
        "If we change the nodes numbering, the properties of the graph don't change yet the adjacency matrix changes. \n"
      ]
    },
    {
      "cell_type": "code",
      "execution_count": 73,
      "metadata": {},
      "outputs": [],
      "source": [
        "# import required packages\n",
        "import numpy as np\n",
        "import matplotlib.pyplot as plt\n",
        "from pygsp import graphs, filters, plotting\n",
        "import cv2"
      ]
    },
    {
      "cell_type": "markdown",
      "metadata": {},
      "source": [
        "\n",
        "#### 5-1-  Introduction to graphs \n",
        ">construct the permutation matrix $\\textbf{P}$ by modifying the Identity matrix. then use it to number the graph's nodes in reverse order"
      ]
    },
    {
      "cell_type": "code",
      "execution_count": 74,
      "metadata": {},
      "outputs": [],
      "source": [
        "# Code cell\n",
        "\n",
        "A_modified = ..."
      ]
    },
    {
      "cell_type": "code",
      "execution_count": 75,
      "metadata": {},
      "outputs": [
        {
          "ename": "ValueError",
          "evalue": "The truth value of an array with more than one element is ambiguous. Use a.any() or a.all()",
          "output_type": "error",
          "traceback": [
            "\u001b[1;31m---------------------------------------------------------------------------\u001b[0m",
            "\u001b[1;31mValueError\u001b[0m                                Traceback (most recent call last)",
            "Cell \u001b[1;32mIn[75], line 2\u001b[0m\n\u001b[0;32m      1\u001b[0m \u001b[38;5;66;03m# Evaluation Cell\u001b[39;00m\n\u001b[1;32m----> 2\u001b[0m \u001b[38;5;28;01massert\u001b[39;00m A_modified \u001b[38;5;241m==\u001b[39m np\u001b[38;5;241m.\u001b[39mmatrix(\u001b[38;5;124m'\u001b[39m\u001b[38;5;124m0 -1 -1 0; 1 0 -1 -1; 1 1 0 -1; 0 1 1 0\u001b[39m\u001b[38;5;124m'\u001b[39m), \u001b[38;5;124m\"\u001b[39m\u001b[38;5;124mwrong!\u001b[39m\u001b[38;5;124m\"\u001b[39m\n",
            "\u001b[1;31mValueError\u001b[0m: The truth value of an array with more than one element is ambiguous. Use a.any() or a.all()"
          ]
        }
      ],
      "source": [
        "# Evaluation Cell\n",
        "assert A_modified == np.matrix('0 -1 -1 0; 1 0 -1 -1; 1 1 0 -1; 0 1 1 0'), \"wrong!\""
      ]
    },
    {
      "cell_type": "markdown",
      "metadata": {},
      "source": [
        "#### 5-2-  Graph image processing  \n",
        "\n",
        "Inpainting is a classical signal processing problem where we wish to fill in the missing values in a\n",
        "partially observed signal. This is here done in the context of image processing for inferring missing pixel values in\n",
        "an image. The signal in the image is considered to be the image matrix flattened while the image is modeled as a 2D grid graph.\n",
        "Inpainting for an image can be formulated as below:\n",
        "\n",
        "$$(M + \\alpha L)x = y$$\n",
        "\n",
        "where y is a partially observed graph signal (with missing values being 0), and M is a diagonal matrix that satisfies:\n",
        " $$ M(i, i)=   \\left\\{\n",
        "\\begin{array}{ll}\n",
        "      1, & if & y(i) & is & observed, \\\\\n",
        "      0, & if & y(i) & is & not & observed, \\\\\n",
        "\\end{array} \n",
        "\\right.  $$\n",
        "\n",
        "The Equation tries to find an x that nearly matches the observed values in y, and at the same time\n",
        "being smooth on the graph (the image here). The regularisation parameter α controls the trade-off between the data fidelity term and the\n",
        "smoothness prior. The solution can therefore be considered as an inpainted version of the partially observed signal."
      ]
    },
    {
      "cell_type": "markdown",
      "metadata": {},
      "source": [
        ">Use the cv2 package to load a grayscale version of the cameraman image with a relatively low resolution, 64 by 64, then display the image using matplotlib.pyplot\n",
        "\n",
        "- do not forget to convert RGB to gray to reduce the 3 color channels to one"
      ]
    },
    {
      "cell_type": "code",
      "execution_count": null,
      "metadata": {},
      "outputs": [],
      "source": [
        "# Code cell"
      ]
    },
    {
      "cell_type": "markdown",
      "metadata": {},
      "source": [
        ">Now flatten the image matrix to get the signal\\\n",
        ">Then, construct the diagonal matrix M which has its diagonal 0 except for $p = 50%$ of its elements that are randomly set to 1\\\n",
        ">At last, apply the observasion matrix M to the signal and construct y "
      ]
    },
    {
      "cell_type": "code",
      "execution_count": null,
      "metadata": {},
      "outputs": [],
      "source": [
        "# Code cell"
      ]
    },
    {
      "cell_type": "code",
      "execution_count": null,
      "metadata": {},
      "outputs": [
        {
          "ename": "NameError",
          "evalue": "name 'graphs' is not defined",
          "output_type": "error",
          "traceback": [
            "\u001b[1;31m---------------------------------------------------------------------------\u001b[0m",
            "\u001b[1;31mNameError\u001b[0m                                 Traceback (most recent call last)",
            "\u001b[1;32me:\\EE SUT\\ترم5 کارشناسی\\روش ها\\تمرین کامپیوتری\\1\\CHW1.ipynb Cell 49\u001b[0m line \u001b[0;36m2\n\u001b[0;32m      <a href='vscode-notebook-cell:/e%3A/EE%20SUT/%D8%AA%D8%B1%D9%855%20%DA%A9%D8%A7%D8%B1%D8%B4%D9%86%D8%A7%D8%B3%DB%8C/%D8%B1%D9%88%D8%B4%20%D9%87%D8%A7/%D8%AA%D9%85%D8%B1%DB%8C%D9%86%20%DA%A9%D8%A7%D9%85%D9%BE%DB%8C%D9%88%D8%AA%D8%B1%DB%8C/1/CHW1.ipynb#X65sZmlsZQ%3D%3D?line=0'>1</a>\u001b[0m \u001b[39m# do not edit this cell \u001b[39;00m\n\u001b[1;32m----> <a href='vscode-notebook-cell:/e%3A/EE%20SUT/%D8%AA%D8%B1%D9%855%20%DA%A9%D8%A7%D8%B1%D8%B4%D9%86%D8%A7%D8%B3%DB%8C/%D8%B1%D9%88%D8%B4%20%D9%87%D8%A7/%D8%AA%D9%85%D8%B1%DB%8C%D9%86%20%DA%A9%D8%A7%D9%85%D9%BE%DB%8C%D9%88%D8%AA%D8%B1%DB%8C/1/CHW1.ipynb#X65sZmlsZQ%3D%3D?line=1'>2</a>\u001b[0m G \u001b[39m=\u001b[39m graphs\u001b[39m.\u001b[39mGrid2d(\u001b[39m64\u001b[39m,\u001b[39m64\u001b[39m)\n\u001b[0;32m      <a href='vscode-notebook-cell:/e%3A/EE%20SUT/%D8%AA%D8%B1%D9%855%20%DA%A9%D8%A7%D8%B1%D8%B4%D9%86%D8%A7%D8%B3%DB%8C/%D8%B1%D9%88%D8%B4%20%D9%87%D8%A7/%D8%AA%D9%85%D8%B1%DB%8C%D9%86%20%DA%A9%D8%A7%D9%85%D9%BE%DB%8C%D9%88%D8%AA%D8%B1%DB%8C/1/CHW1.ipynb#X65sZmlsZQ%3D%3D?line=2'>3</a>\u001b[0m L \u001b[39m=\u001b[39m G\u001b[39m.\u001b[39mL\n",
            "\u001b[1;31mNameError\u001b[0m: name 'graphs' is not defined"
          ]
        }
      ],
      "source": [
        "# do not edit this cell \n",
        "G = graphs.Grid2d(64,64)\n",
        "L = G.L"
      ]
    },
    {
      "cell_type": "markdown",
      "metadata": {},
      "source": [
        ">To get x, apply the $\\textbf{Cholesky decomposition}$ to ( $M+\\alpha L$ ) and then solve the stated equation applying np.linalg.inv() to the two terms multiplied by x ( note that L is given by the code cell above )\n",
        "- check the soloution with \"np.linalg.solve()\""
      ]
    },
    {
      "cell_type": "code",
      "execution_count": null,
      "metadata": {},
      "outputs": [],
      "source": [
        "# Code cell"
      ]
    },
    {
      "cell_type": "markdown",
      "metadata": {},
      "source": [
        ">For values of alpha 0.001 , 0.1 , 10 and p values 50 , 75 display the original, the damaged and the Inpainted image in subplots"
      ]
    },
    {
      "cell_type": "code",
      "execution_count": null,
      "metadata": {},
      "outputs": [],
      "source": [
        "# Code cell"
      ]
    }
  ],
  "metadata": {
    "colab": {
      "provenance": []
    },
    "kernelspec": {
      "display_name": "base",
      "language": "python",
      "name": "python3"
    },
    "language_info": {
      "codemirror_mode": {
        "name": "ipython",
        "version": 3
      },
      "file_extension": ".py",
      "mimetype": "text/x-python",
      "name": "python",
      "nbconvert_exporter": "python",
      "pygments_lexer": "ipython3",
      "version": "3.11.5"
    },
    "orig_nbformat": 4,
    "vscode": {
      "interpreter": {
        "hash": "a552c2ea7a7b6736ba4a8b66efcb40eda8d77c5e9d980e5b81f29aecaaefb085"
      }
    }
  },
  "nbformat": 4,
  "nbformat_minor": 0
}
